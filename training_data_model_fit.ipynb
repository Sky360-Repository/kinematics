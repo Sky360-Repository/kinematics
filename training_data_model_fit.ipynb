{
 "cells": [
  {
   "cell_type": "code",
   "execution_count": 1,
   "id": "8325b43b",
   "metadata": {},
   "outputs": [],
   "source": [
    "import cv2\n",
    "import glob\n",
    "from scipy.spatial import distance\n",
    "import math\n",
    "import pickle\n",
    "import numpy as np\n",
    "import pandas as pd\n",
    "from utility import *\n",
    "from direction_change_distances import direction_change_distances\n",
    "from sklearn.model_selection import train_test_split\n",
    "from sktime.classification.hybrid import HIVECOTEV2\n",
    "from sklearn.metrics import accuracy_score\n",
    "from matplotlib.font_manager import json_load\n",
    "#import sys\n",
    "#stdout = sys.stdout"
   ]
  },
  {
   "cell_type": "code",
   "execution_count": 2,
   "id": "d373b85d",
   "metadata": {},
   "outputs": [],
   "source": [
    "# Read in csv file with video meta data\n",
    "# each row needs to have following info: file path, video number, object, track\n",
    "video_files = pd.read_csv('F:\\\\Sky360_videos\\\\video_files.csv')"
   ]
  },
  {
   "cell_type": "code",
   "execution_count": 23,
   "id": "4f8d919a",
   "metadata": {},
   "outputs": [
    {
     "name": "stderr",
     "output_type": "stream",
     "text": [
      "c:\\Users\\Admin\\Documents\\UFO\\Kinematics\\Time_series_classification\\utility.py:27: RuntimeWarning: invalid value encountered in double_scalars\n",
      "  cos_theta = np.dot(a,b)/(magn_a * magn_b) # cos of angle between vector a and b\n",
      "c:\\Users\\Admin\\Documents\\UFO\\Kinematics\\Time_series_classification\\utility.py:28: RuntimeWarning: invalid value encountered in arccos\n",
      "  theta = np.arccos(cos_theta) * 180/math.pi # angle in degree\n"
     ]
    },
    {
     "data": {
      "text/plain": [
       "True"
      ]
     },
     "execution_count": 23,
     "metadata": {},
     "output_type": "execute_result"
    }
   ],
   "source": [
    "\"\"\"Run this cell for each object and attach numbers to dist_list,direction_change_list_cleaned and y_in accordingly. These \n",
    "lists are concatenated in the next cell.\"\"\"\n",
    "\n",
    "Object = \"Plant\" # Plane or Bird or Plant\n",
    "sequence_length = 10 # Sequence length to train on\n",
    "\n",
    "\"\"\"For a given object get a list of distances [px] and direction changes [°] calculated between consecutive images. This\n",
    "will produce a warning for instances when the magnitude of a direction vector is 0. Will be dealt with in the following\n",
    "lines.\"\"\"\n",
    "dist_list3,direction_change_list = direction_change_distances(video_files,Object,sequence_length)\n",
    "\n",
    "## Concatenation of input variables\n",
    "\n",
    "\"\"\"direction_change_list contains NaNs here and there for the instances described above. Here it makes sense to just\n",
    "replace nans with 0.\"\"\"\n",
    "direction_change_list_cleaned3 = clean_nans(direction_change_list)\n",
    "\n",
    "# these are the object labels for model training\n",
    "y_in3 = np.array([Object for _ in range(int(len(dist_list3)/sequence_length))], dtype='<U9')\n",
    "\n",
    "# little test if input training data and labels have equal lengths\n",
    "len(dist_list3)/sequence_length == len(y_in3)"
   ]
  },
  {
   "cell_type": "code",
   "execution_count": 24,
   "id": "c6a2bfc4",
   "metadata": {},
   "outputs": [],
   "source": [
    "\"\"\"concatenate model input data (dist_list, direction_change_list_cleaned) of different objects\"\"\" \n",
    "\n",
    "# input for model training\n",
    "dist_list_all = list(dist_list) + list(dist_list2) + list(dist_list3)\n",
    "direction_change_list_all = list(direction_change_list_cleaned) + list(direction_change_list_cleaned2) + list(direction_change_list_cleaned3)\n",
    "# labels for model training\n",
    "y = np.concatenate((y_in, y_in2,y_in3), axis=0)"
   ]
  },
  {
   "cell_type": "code",
   "execution_count": 7,
   "id": "e79c89dd",
   "metadata": {},
   "outputs": [
    {
     "name": "stdout",
     "output_type": "stream",
     "text": [
      "153\n",
      "146\n",
      "163\n"
     ]
    }
   ],
   "source": [
    "print(len(y_in))\n",
    "print(len(y_in2))\n",
    "print(len(y_in3))"
   ]
  },
  {
   "cell_type": "code",
   "execution_count": 25,
   "id": "201aec58",
   "metadata": {},
   "outputs": [],
   "source": [
    "# Prepare input dataframe needed for the model\n",
    "# First input variable: directional changes [px]\n",
    "d = {}\n",
    "n = 0\n",
    "for i in range(0,len(dist_list_all)):\n",
    "    if i % sequence_length == 0:\n",
    "      d[n] = pd.Series(direction_change_list_all[i:i+sequence_length])\n",
    "      n += 1\n",
    "df = pd.Series(d).to_frame('Direction_changes')\n",
    "\n",
    "# 2nd input variable: distances [°]\n",
    "d = {}\n",
    "n = 0\n",
    "for i in range(0,len(dist_list_all)):\n",
    "    if i % sequence_length == 0:\n",
    "      d[n] = pd.Series(dist_list_all[i:i+sequence_length])\n",
    "      n += 1\n",
    "df2 = pd.Series(d).to_frame('Distances')\n",
    "\n",
    "# Concatenate different input variables to one input dataframe\n",
    "X = pd.concat([df, df2], axis=1)"
   ]
  },
  {
   "cell_type": "code",
   "execution_count": 26,
   "id": "ffe2f4ca",
   "metadata": {},
   "outputs": [
    {
     "name": "stdout",
     "output_type": "stream",
     "text": [
      "1696.0\n",
      "1696\n"
     ]
    }
   ],
   "source": [
    "# Little check: X.size divided by number of variables should equal y.size\n",
    "print(X.size/2)\n",
    "print(y.size)"
   ]
  },
  {
   "cell_type": "code",
   "execution_count": 28,
   "id": "7502d101",
   "metadata": {},
   "outputs": [],
   "source": [
    "# create datasets for training and testing\n",
    "X_train, X_test, y_train, y_test = train_test_split(X, y)"
   ]
  },
  {
   "cell_type": "code",
   "execution_count": 29,
   "id": "46158750",
   "metadata": {},
   "outputs": [],
   "source": [
    "# define the model\n",
    "# check following link for the multitude of available algos: \n",
    "# https://www.sktime.org/en/stable/api_reference/classification.html\n",
    "\n",
    "# here we just use the default values for now, has potential for improvements\n",
    "classifier = HIVECOTEV2(\n",
    "    stc_params={\"n_shapelet_samples\": 1000}, \n",
    "    drcif_params={\"n_estimators\": 25},\n",
    "    arsenal_params={\"n_estimators\": 10},\n",
    "    tde_params={\"n_parameter_samples\": 100},\n",
    "    verbose=0,\n",
    ")"
   ]
  },
  {
   "cell_type": "code",
   "execution_count": 30,
   "id": "b32c9292",
   "metadata": {},
   "outputs": [
    {
     "data": {
      "text/html": [
       "<style>#sk-container-id-2 {color: black;background-color: white;}#sk-container-id-2 pre{padding: 0;}#sk-container-id-2 div.sk-toggleable {background-color: white;}#sk-container-id-2 label.sk-toggleable__label {cursor: pointer;display: block;width: 100%;margin-bottom: 0;padding: 0.3em;box-sizing: border-box;text-align: center;}#sk-container-id-2 label.sk-toggleable__label-arrow:before {content: \"▸\";float: left;margin-right: 0.25em;color: #696969;}#sk-container-id-2 label.sk-toggleable__label-arrow:hover:before {color: black;}#sk-container-id-2 div.sk-estimator:hover label.sk-toggleable__label-arrow:before {color: black;}#sk-container-id-2 div.sk-toggleable__content {max-height: 0;max-width: 0;overflow: hidden;text-align: left;background-color: #f0f8ff;}#sk-container-id-2 div.sk-toggleable__content pre {margin: 0.2em;color: black;border-radius: 0.25em;background-color: #f0f8ff;}#sk-container-id-2 input.sk-toggleable__control:checked~div.sk-toggleable__content {max-height: 200px;max-width: 100%;overflow: auto;}#sk-container-id-2 input.sk-toggleable__control:checked~label.sk-toggleable__label-arrow:before {content: \"▾\";}#sk-container-id-2 div.sk-estimator input.sk-toggleable__control:checked~label.sk-toggleable__label {background-color: #d4ebff;}#sk-container-id-2 div.sk-label input.sk-toggleable__control:checked~label.sk-toggleable__label {background-color: #d4ebff;}#sk-container-id-2 input.sk-hidden--visually {border: 0;clip: rect(1px 1px 1px 1px);clip: rect(1px, 1px, 1px, 1px);height: 1px;margin: -1px;overflow: hidden;padding: 0;position: absolute;width: 1px;}#sk-container-id-2 div.sk-estimator {font-family: monospace;background-color: #f0f8ff;border: 1px dotted black;border-radius: 0.25em;box-sizing: border-box;margin-bottom: 0.5em;}#sk-container-id-2 div.sk-estimator:hover {background-color: #d4ebff;}#sk-container-id-2 div.sk-parallel-item::after {content: \"\";width: 100%;border-bottom: 1px solid gray;flex-grow: 1;}#sk-container-id-2 div.sk-label:hover label.sk-toggleable__label {background-color: #d4ebff;}#sk-container-id-2 div.sk-serial::before {content: \"\";position: absolute;border-left: 1px solid gray;box-sizing: border-box;top: 0;bottom: 0;left: 50%;z-index: 0;}#sk-container-id-2 div.sk-serial {display: flex;flex-direction: column;align-items: center;background-color: white;padding-right: 0.2em;padding-left: 0.2em;position: relative;}#sk-container-id-2 div.sk-item {position: relative;z-index: 1;}#sk-container-id-2 div.sk-parallel {display: flex;align-items: stretch;justify-content: center;background-color: white;position: relative;}#sk-container-id-2 div.sk-item::before, #sk-container-id-2 div.sk-parallel-item::before {content: \"\";position: absolute;border-left: 1px solid gray;box-sizing: border-box;top: 0;bottom: 0;left: 50%;z-index: -1;}#sk-container-id-2 div.sk-parallel-item {display: flex;flex-direction: column;z-index: 1;position: relative;background-color: white;}#sk-container-id-2 div.sk-parallel-item:first-child::after {align-self: flex-end;width: 50%;}#sk-container-id-2 div.sk-parallel-item:last-child::after {align-self: flex-start;width: 50%;}#sk-container-id-2 div.sk-parallel-item:only-child::after {width: 0;}#sk-container-id-2 div.sk-dashed-wrapped {border: 1px dashed gray;margin: 0 0.4em 0.5em 0.4em;box-sizing: border-box;padding-bottom: 0.4em;background-color: white;}#sk-container-id-2 div.sk-label label {font-family: monospace;font-weight: bold;display: inline-block;line-height: 1.2em;}#sk-container-id-2 div.sk-label-container {text-align: center;}#sk-container-id-2 div.sk-container {/* jupyter's `normalize.less` sets `[hidden] { display: none; }` but bootstrap.min.css set `[hidden] { display: none !important; }` so we also need the `!important` here to be able to override the default hidden behavior on the sphinx rendered scikit-learn.org. See: https://github.com/scikit-learn/scikit-learn/issues/21755 */display: inline-block !important;position: relative;}#sk-container-id-2 div.sk-text-repr-fallback {display: none;}</style><div id=\"sk-container-id-2\" class=\"sk-top-container\"><div class=\"sk-text-repr-fallback\"><pre>HIVECOTEV2(arsenal_params={&#x27;n_estimators&#x27;: 10},\n",
       "           drcif_params={&#x27;n_estimators&#x27;: 25},\n",
       "           stc_params={&#x27;n_shapelet_samples&#x27;: 1000},\n",
       "           tde_params={&#x27;n_parameter_samples&#x27;: 100})</pre><b>In a Jupyter environment, please rerun this cell to show the HTML representation or trust the notebook. <br />On GitHub, the HTML representation is unable to render, please try loading this page with nbviewer.org.</b></div><div class=\"sk-container\" hidden><div class=\"sk-item\"><div class=\"sk-estimator sk-toggleable\"><input class=\"sk-toggleable__control sk-hidden--visually\" id=\"sk-estimator-id-2\" type=\"checkbox\" checked><label for=\"sk-estimator-id-2\" class=\"sk-toggleable__label sk-toggleable__label-arrow\">HIVECOTEV2</label><div class=\"sk-toggleable__content\"><pre>HIVECOTEV2(arsenal_params={&#x27;n_estimators&#x27;: 10},\n",
       "           drcif_params={&#x27;n_estimators&#x27;: 25},\n",
       "           stc_params={&#x27;n_shapelet_samples&#x27;: 1000},\n",
       "           tde_params={&#x27;n_parameter_samples&#x27;: 100})</pre></div></div></div></div></div>"
      ],
      "text/plain": [
       "HIVECOTEV2(arsenal_params={'n_estimators': 10},\n",
       "           drcif_params={'n_estimators': 25},\n",
       "           stc_params={'n_shapelet_samples': 1000},\n",
       "           tde_params={'n_parameter_samples': 100})"
      ]
     },
     "execution_count": 30,
     "metadata": {},
     "output_type": "execute_result"
    }
   ],
   "source": [
    "# fit model\n",
    "classifier.fit(X_train, y_train)"
   ]
  },
  {
   "cell_type": "code",
   "execution_count": null,
   "id": "11a0629c",
   "metadata": {},
   "outputs": [],
   "source": [
    "# alternatively load model\n",
    "# import trained classification model\n",
    "with open('model.pkl', 'rb') as f:\n",
    "    clf = pickle.load(f)"
   ]
  },
  {
   "cell_type": "code",
   "execution_count": 31,
   "id": "dc03eb02",
   "metadata": {},
   "outputs": [
    {
     "name": "stdout",
     "output_type": "stream",
     "text": [
      "['Plane' 'Bird' 'Bird' 'Plane' 'Bird' 'Plane' 'Plant' 'Plane' 'Plane'\n",
      " 'Plant' 'Bird' 'Plant' 'Plant' 'Plant' 'Plant' 'Plane' 'Plant' 'Plant'\n",
      " 'Plane' 'Bird' 'Plane' 'Plant' 'Plant' 'Bird' 'Plant' 'Bird' 'Plant'\n",
      " 'Plane' 'Plant' 'Plant' 'Bird' 'Plant' 'Plant' 'Bird' 'Bird' 'Plant'\n",
      " 'Plant' 'Plant' 'Plant' 'Plane' 'Bird' 'Plant' 'Plane' 'Bird' 'Bird'\n",
      " 'Plant' 'Plane' 'Bird' 'Bird' 'Plane' 'Bird' 'Plant' 'Bird' 'Bird'\n",
      " 'Plant' 'Plane' 'Plant' 'Plant' 'Bird' 'Plant' 'Bird' 'Plane' 'Plant'\n",
      " 'Bird' 'Bird' 'Plane' 'Bird' 'Plant' 'Bird' 'Bird' 'Plant' 'Plant'\n",
      " 'Plane' 'Plane' 'Bird' 'Bird' 'Bird' 'Plant' 'Plane' 'Plane' 'Bird'\n",
      " 'Bird' 'Plane' 'Plant' 'Plant' 'Plant' 'Plant' 'Bird' 'Plane' 'Plant'\n",
      " 'Plane' 'Plane' 'Plane' 'Bird' 'Plant' 'Plant' 'Bird' 'Plant' 'Plane'\n",
      " 'Plane' 'Bird' 'Bird' 'Plane' 'Plane' 'Plane' 'Bird' 'Plane' 'Bird'\n",
      " 'Plane' 'Plant' 'Plane' 'Bird' 'Plane' 'Bird' 'Bird' 'Plant' 'Bird'\n",
      " 'Plant' 'Plane' 'Plant' 'Plant' 'Plant' 'Plane' 'Plant' 'Bird' 'Plant'\n",
      " 'Plane' 'Bird' 'Plane' 'Bird' 'Bird' 'Plane' 'Plant' 'Plane' 'Bird'\n",
      " 'Plane' 'Plant' 'Plane' 'Plant' 'Plane' 'Plant' 'Bird' 'Bird' 'Plane'\n",
      " 'Plant' 'Plant' 'Plane' 'Plane' 'Bird' 'Bird' 'Plane' 'Plane' 'Bird'\n",
      " 'Plant' 'Plant' 'Plane' 'Bird' 'Bird' 'Plant' 'Plane' 'Bird' 'Bird'\n",
      " 'Plant' 'Bird' 'Plant' 'Plant' 'Plane' 'Plant' 'Plane' 'Plant' 'Plant'\n",
      " 'Plane' 'Bird' 'Plane' 'Plant' 'Bird' 'Bird' 'Plant' 'Plant' 'Bird'\n",
      " 'Bird' 'Bird' 'Plane' 'Plant' 'Plane' 'Plane' 'Bird' 'Plane' 'Plane'\n",
      " 'Plant' 'Plant' 'Plant' 'Plant' 'Plane' 'Plane' 'Bird' 'Bird' 'Plane'\n",
      " 'Plant' 'Plant' 'Bird' 'Plant' 'Plant' 'Plant' 'Plant' 'Plant' 'Bird'\n",
      " 'Plane' 'Plant' 'Plane' 'Plant' 'Bird' 'Bird' 'Plant' 'Bird' 'Plane'\n",
      " 'Bird' 'Plant' 'Bird' 'Plane' 'Bird' 'Plant' 'Bird' 'Plant' 'Plant'\n",
      " 'Bird' 'Plant' 'Plane' 'Bird' 'Plane' 'Plane' 'Plant' 'Plane' 'Plant'\n",
      " 'Plant' 'Bird' 'Plant' 'Plant' 'Bird' 'Bird' 'Plant' 'Plant' 'Plane'\n",
      " 'Plane' 'Bird' 'Bird' 'Bird' 'Plane' 'Plane' 'Plane' 'Plane' 'Plant'\n",
      " 'Bird' 'Plant' 'Plane' 'Bird' 'Plane' 'Bird' 'Plant' 'Plane' 'Bird'\n",
      " 'Plant' 'Bird' 'Bird' 'Plant' 'Bird' 'Plant' 'Plant' 'Bird' 'Bird' 'Bird'\n",
      " 'Plane' 'Bird' 'Plant' 'Plant' 'Bird' 'Plane' 'Plane' 'Bird' 'Bird'\n",
      " 'Plane' 'Bird' 'Plane' 'Bird' 'Bird' 'Plant' 'Plane' 'Plane' 'Plant'\n",
      " 'Bird' 'Plane' 'Plant' 'Plane' 'Plant' 'Plant' 'Bird' 'Plane' 'Bird'\n",
      " 'Bird' 'Plane' 'Bird' 'Bird' 'Plane' 'Plane' 'Plane' 'Bird' 'Bird'\n",
      " 'Plane' 'Bird' 'Plant' 'Bird' 'Bird' 'Plane' 'Plant' 'Plant' 'Bird'\n",
      " 'Plant' 'Plane' 'Plant' 'Plane' 'Plant' 'Bird' 'Plane' 'Plane' 'Plant'\n",
      " 'Bird' 'Bird' 'Bird' 'Plane' 'Plane' 'Plant' 'Plane' 'Bird' 'Plant'\n",
      " 'Bird' 'Bird' 'Bird' 'Plane' 'Plant' 'Plant' 'Bird' 'Plane' 'Plane'\n",
      " 'Bird' 'Bird' 'Bird' 'Plane' 'Plant' 'Plane' 'Plant' 'Plane' 'Plant'\n",
      " 'Bird' 'Plant' 'Plant' 'Plane' 'Plane' 'Bird' 'Bird' 'Bird' 'Plant'\n",
      " 'Bird' 'Plane' 'Bird' 'Plant' 'Plane' 'Bird' 'Plant' 'Plant' 'Bird'\n",
      " 'Plant' 'Bird' 'Plane' 'Plane' 'Plane' 'Bird' 'Bird' 'Plane' 'Plane'\n",
      " 'Bird' 'Bird' 'Plane' 'Plane' 'Bird' 'Plane' 'Bird' 'Plane' 'Plant'\n",
      " 'Bird' 'Plant' 'Plane' 'Plant' 'Plane' 'Plane' 'Plant' 'Plant' 'Plant'\n",
      " 'Plane' 'Plane' 'Plane' 'Plane' 'Plant' 'Plant' 'Plane' 'Plant' 'Plant'\n",
      " 'Bird' 'Bird' 'Plant' 'Plane' 'Plane' 'Plane' 'Bird' 'Plant' 'Plane'\n",
      " 'Plane' 'Plane' 'Bird' 'Plane' 'Plant' 'Plant' 'Plant' 'Bird' 'Bird']\n",
      "['Plant' 'Bird' 'Bird' 'Plane' 'Bird' 'Plane' 'Plant' 'Plane' 'Plane'\n",
      " 'Plant' 'Bird' 'Plane' 'Plant' 'Bird' 'Plant' 'Plane' 'Plant' 'Plant'\n",
      " 'Plane' 'Bird' 'Plane' 'Plant' 'Plane' 'Bird' 'Plant' 'Bird' 'Plant'\n",
      " 'Bird' 'Plant' 'Plant' 'Bird' 'Plant' 'Plant' 'Bird' 'Bird' 'Plant'\n",
      " 'Bird' 'Plant' 'Plant' 'Plane' 'Bird' 'Plant' 'Plane' 'Bird' 'Bird'\n",
      " 'Plant' 'Plane' 'Plane' 'Bird' 'Plane' 'Bird' 'Plant' 'Bird' 'Plane'\n",
      " 'Plant' 'Bird' 'Plant' 'Plant' 'Bird' 'Plant' 'Bird' 'Plane' 'Plant'\n",
      " 'Bird' 'Bird' 'Plane' 'Plant' 'Plant' 'Bird' 'Bird' 'Plant' 'Plane'\n",
      " 'Plane' 'Plane' 'Plane' 'Bird' 'Bird' 'Plant' 'Plane' 'Plane' 'Bird'\n",
      " 'Bird' 'Bird' 'Plant' 'Plant' 'Bird' 'Plane' 'Bird' 'Plane' 'Plant'\n",
      " 'Plane' 'Plane' 'Bird' 'Bird' 'Plant' 'Plane' 'Bird' 'Plant' 'Plane'\n",
      " 'Bird' 'Bird' 'Bird' 'Plane' 'Plane' 'Plane' 'Bird' 'Plane' 'Plane'\n",
      " 'Plant' 'Bird' 'Plane' 'Bird' 'Bird' 'Plane' 'Plane' 'Plant' 'Bird'\n",
      " 'Plant' 'Plane' 'Plant' 'Plant' 'Plant' 'Plane' 'Plant' 'Plane' 'Plant'\n",
      " 'Plane' 'Plane' 'Plane' 'Bird' 'Bird' 'Plane' 'Plant' 'Plane' 'Bird'\n",
      " 'Plane' 'Bird' 'Bird' 'Plant' 'Plane' 'Plant' 'Bird' 'Bird' 'Bird'\n",
      " 'Plant' 'Plant' 'Plane' 'Plant' 'Bird' 'Bird' 'Plane' 'Bird' 'Bird'\n",
      " 'Plant' 'Plant' 'Plant' 'Bird' 'Bird' 'Plant' 'Bird' 'Plane' 'Bird'\n",
      " 'Plant' 'Bird' 'Plane' 'Plant' 'Plane' 'Plant' 'Plane' 'Plant' 'Bird'\n",
      " 'Plane' 'Bird' 'Plane' 'Plant' 'Bird' 'Bird' 'Plane' 'Plant' 'Plane'\n",
      " 'Plane' 'Plane' 'Plane' 'Plant' 'Plane' 'Plane' 'Bird' 'Plane' 'Plane'\n",
      " 'Plant' 'Plant' 'Plane' 'Plant' 'Plane' 'Plant' 'Bird' 'Bird' 'Plant'\n",
      " 'Bird' 'Plant' 'Bird' 'Plant' 'Plant' 'Plant' 'Plant' 'Plant' 'Plane'\n",
      " 'Bird' 'Plant' 'Plane' 'Plant' 'Plane' 'Plane' 'Plant' 'Bird' 'Plane'\n",
      " 'Bird' 'Plant' 'Bird' 'Plane' 'Bird' 'Plant' 'Bird' 'Plant' 'Plant'\n",
      " 'Plane' 'Bird' 'Bird' 'Bird' 'Plane' 'Plane' 'Plant' 'Plane' 'Plant'\n",
      " 'Plant' 'Bird' 'Plant' 'Plant' 'Bird' 'Bird' 'Plant' 'Plant' 'Plane'\n",
      " 'Plane' 'Plane' 'Bird' 'Bird' 'Plant' 'Plane' 'Bird' 'Plant' 'Plant'\n",
      " 'Bird' 'Plant' 'Plane' 'Bird' 'Plane' 'Bird' 'Plant' 'Bird' 'Plant'\n",
      " 'Plant' 'Bird' 'Bird' 'Plant' 'Bird' 'Plant' 'Plane' 'Bird' 'Plane'\n",
      " 'Bird' 'Plant' 'Plane' 'Plant' 'Plane' 'Bird' 'Plane' 'Bird' 'Plane'\n",
      " 'Bird' 'Plane' 'Bird' 'Plane' 'Plane' 'Bird' 'Plant' 'Plane' 'Bird'\n",
      " 'Plane' 'Bird' 'Bird' 'Plant' 'Plane' 'Plant' 'Plant' 'Bird' 'Plane'\n",
      " 'Bird' 'Bird' 'Bird' 'Bird' 'Bird' 'Bird' 'Plane' 'Plane' 'Plane' 'Bird'\n",
      " 'Plane' 'Bird' 'Plant' 'Bird' 'Bird' 'Plane' 'Bird' 'Plant' 'Bird'\n",
      " 'Plant' 'Bird' 'Plant' 'Plane' 'Plant' 'Plane' 'Plane' 'Plane' 'Plant'\n",
      " 'Plane' 'Bird' 'Plane' 'Plane' 'Plane' 'Plant' 'Plane' 'Bird' 'Plant'\n",
      " 'Bird' 'Plane' 'Plane' 'Plane' 'Plant' 'Plane' 'Plane' 'Plane' 'Plane'\n",
      " 'Bird' 'Plane' 'Bird' 'Plane' 'Plant' 'Bird' 'Plane' 'Plane' 'Plant'\n",
      " 'Bird' 'Plant' 'Bird' 'Bird' 'Plane' 'Bird' 'Bird' 'Bird' 'Plant' 'Bird'\n",
      " 'Plane' 'Bird' 'Plant' 'Plane' 'Bird' 'Plant' 'Plant' 'Bird' 'Plant'\n",
      " 'Bird' 'Plane' 'Bird' 'Plane' 'Bird' 'Bird' 'Plane' 'Plane' 'Bird'\n",
      " 'Plant' 'Plane' 'Plane' 'Bird' 'Plane' 'Plane' 'Bird' 'Plant' 'Bird'\n",
      " 'Plant' 'Plant' 'Plant' 'Plant' 'Plane' 'Plant' 'Plant' 'Plant' 'Bird'\n",
      " 'Plane' 'Bird' 'Plant' 'Plant' 'Plant' 'Plane' 'Plant' 'Plant' 'Bird'\n",
      " 'Plant' 'Plant' 'Plant' 'Plane' 'Plane' 'Plant' 'Plant' 'Bird' 'Plane'\n",
      " 'Bird' 'Bird' 'Plane' 'Plant' 'Plant' 'Plant' 'Bird' 'Plane']\n",
      "0.7641509433962265\n"
     ]
    }
   ],
   "source": [
    "# test the trained model\n",
    "\n",
    "#sys.stdout = stdout\n",
    "\n",
    "y_pred = classifier.predict(X_test)\n",
    "print(y_pred)\n",
    "print(y_test)\n",
    "y_pred_proba = classifier.predict_proba(X_test)\n",
    "score = accuracy_score(y_test, y_pred)\n",
    "print(score)"
   ]
  },
  {
   "cell_type": "code",
   "execution_count": 17,
   "id": "f9593760",
   "metadata": {},
   "outputs": [
    {
     "name": "stdout",
     "output_type": "stream",
     "text": [
      "['Bird' 'Plant' 'Plane' 'Plant' 'Plane' 'Plant' 'Bird' 'Bird' 'Plane'\n",
      " 'Plane' 'Plane' 'Bird' 'Bird' 'Bird' 'Plane' 'Plane' 'Plane' 'Plant'\n",
      " 'Plant' 'Plant' 'Plant' 'Plant' 'Plane' 'Plant' 'Plant' 'Plant' 'Plant'\n",
      " 'Bird' 'Plant' 'Bird' 'Bird' 'Bird' 'Bird' 'Plane' 'Bird' 'Plant' 'Plane'\n",
      " 'Bird' 'Bird' 'Plane' 'Bird' 'Bird' 'Bird' 'Plant' 'Plane' 'Bird' 'Bird'\n",
      " 'Plane' 'Plane' 'Plane' 'Plant' 'Plant' 'Plane' 'Plant' 'Plant' 'Plant'\n",
      " 'Plant' 'Bird' 'Plane' 'Plane' 'Plant' 'Plane' 'Plane' 'Bird' 'Bird'\n",
      " 'Bird' 'Plane' 'Plane' 'Bird' 'Bird' 'Bird' 'Plane' 'Plane' 'Plane'\n",
      " 'Bird' 'Plant' 'Bird' 'Plane' 'Plane' 'Bird' 'Plant' 'Plant' 'Plane'\n",
      " 'Plane' 'Plant' 'Bird' 'Plane' 'Bird' 'Plane' 'Plane' 'Bird' 'Plant'\n",
      " 'Bird' 'Plane' 'Plant' 'Bird' 'Plant' 'Plant' 'Plant' 'Plane' 'Plane'\n",
      " 'Plant' 'Plant' 'Bird' 'Plant' 'Plane' 'Plant' 'Plant' 'Plant' 'Plane'\n",
      " 'Plant' 'Plant' 'Plant' 'Plane' 'Bird' 'Bird']\n"
     ]
    }
   ],
   "source": []
  },
  {
   "cell_type": "code",
   "execution_count": 33,
   "id": "0e2b6579",
   "metadata": {},
   "outputs": [],
   "source": [
    "# save model\n",
    "with open('model_hivecotev2_bird_plant_plane_10.pkl','wb') as f:\n",
    "    pickle.dump(classifier,f)"
   ]
  }
 ],
 "metadata": {
  "kernelspec": {
   "display_name": "Python 3.10.5 64-bit",
   "language": "python",
   "name": "python3"
  },
  "language_info": {
   "codemirror_mode": {
    "name": "ipython",
    "version": 3
   },
   "file_extension": ".py",
   "mimetype": "text/x-python",
   "name": "python",
   "nbconvert_exporter": "python",
   "pygments_lexer": "ipython3",
   "version": "3.10.5"
  },
  "vscode": {
   "interpreter": {
    "hash": "a42ccb73e7d9bfdf27e036f1d2b8b681e55fc0743cc5586bc2474d4a60f4b886"
   }
  }
 },
 "nbformat": 4,
 "nbformat_minor": 5
}
